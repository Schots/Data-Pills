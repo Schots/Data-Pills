{
 "cells": [
  {
   "cell_type": "code",
   "execution_count": 4,
   "metadata": {},
   "outputs": [
    {
     "name": "stdout",
     "output_type": "stream",
     "text": [
      "The nb_black extension is already loaded. To reload it, use:\n",
      "  %reload_ext nb_black\n"
     ]
    },
    {
     "data": {
      "application/javascript": [
       "\n",
       "            setTimeout(function() {\n",
       "                var nbb_cell_id = 4;\n",
       "                var nbb_unformatted_code = \"import pandas as pd\\nimport numpy as np\\nimport matplotlib.pyplot as plt\\nfrom ipywidgets import interact_manual\\n\\n%load_ext nb_black\\nplt.rcParams[\\\"figure.figsize\\\"] = [15, 7]\\nplt.style.use(\\\"fivethirtyeight\\\")\";\n",
       "                var nbb_formatted_code = \"import pandas as pd\\nimport numpy as np\\nimport matplotlib.pyplot as plt\\nfrom ipywidgets import interact_manual\\n\\n%load_ext nb_black\\nplt.rcParams[\\\"figure.figsize\\\"] = [15, 7]\\nplt.style.use(\\\"fivethirtyeight\\\")\";\n",
       "                var nbb_cells = Jupyter.notebook.get_cells();\n",
       "                for (var i = 0; i < nbb_cells.length; ++i) {\n",
       "                    if (nbb_cells[i].input_prompt_number == nbb_cell_id) {\n",
       "                        if (nbb_cells[i].get_text() == nbb_unformatted_code) {\n",
       "                             nbb_cells[i].set_text(nbb_formatted_code);\n",
       "                        }\n",
       "                        break;\n",
       "                    }\n",
       "                }\n",
       "            }, 500);\n",
       "            "
      ],
      "text/plain": [
       "<IPython.core.display.Javascript object>"
      ]
     },
     "metadata": {},
     "output_type": "display_data"
    }
   ],
   "source": [
    "import pandas as pd\n",
    "import numpy as np\n",
    "import matplotlib.pyplot as plt\n",
    "from ipywidgets import interact_manual\n",
    "\n",
    "%load_ext nb_black\n",
    "plt.rcParams[\"figure.figsize\"] = [15, 7]\n",
    "plt.style.use(\"fivethirtyeight\")"
   ]
  },
  {
   "cell_type": "code",
   "execution_count": 7,
   "metadata": {
    "scrolled": false
   },
   "outputs": [
    {
     "data": {
      "application/vnd.jupyter.widget-view+json": {
       "model_id": "5120840039204397ba5263fbb479f4f1",
       "version_major": 2,
       "version_minor": 0
      },
      "text/plain": [
       "interactive(children=(Dropdown(description='cidade', options=('Abadia de Goiás', 'Abadia dos Dourados', 'Abadi…"
      ]
     },
     "metadata": {},
     "output_type": "display_data"
    },
    {
     "data": {
      "application/javascript": [
       "\n",
       "            setTimeout(function() {\n",
       "                var nbb_cell_id = 7;\n",
       "                var nbb_unformatted_code = \"# Arquivo caso_full.csv.gz hospedado em:  https://data.brasil.io/dataset/covid19/_meta/list.html\\ncovid = pd.read_csv(\\\"caso_full.csv.gz\\\", parse_dates=[\\\"date\\\"])\\ncovid.set_index(\\\"date\\\", inplace=True)\\n\\n\\n@interact_manual(\\n    cidade=[local for local in pd.Series(covid[\\\"city\\\"].unique()).sort_values()],\\n)\\ndef covid_expansion(cidade):\\n    covid_city = covid[covid[\\\"city\\\"] == cidade]\\n    ax = covid_city[\\\"new_deaths\\\"].resample(\\\"W\\\").sum().rolling(2).mean().plot()\\n    ax.set_title(f\\\"M\\u00e9dia M\\u00f3vel de 2 Semanas: Mortes por COVID em {cidade} \\\\n\\\")\\n    ax.set_xlabel(\\\"\\\")\\n    ax.set_ylabel(\\\"N\\u00famero de Mortes\\\")\\n    return ax\";\n",
       "                var nbb_formatted_code = \"# Arquivo caso_full.csv.gz hospedado em:  https://data.brasil.io/dataset/covid19/_meta/list.html\\ncovid = pd.read_csv(\\\"caso_full.csv.gz\\\", parse_dates=[\\\"date\\\"])\\ncovid.set_index(\\\"date\\\", inplace=True)\\n\\n\\n@interact_manual(\\n    cidade=[local for local in pd.Series(covid[\\\"city\\\"].unique()).sort_values()],\\n)\\ndef covid_expansion(cidade):\\n    covid_city = covid[covid[\\\"city\\\"] == cidade]\\n    ax = covid_city[\\\"new_deaths\\\"].resample(\\\"W\\\").sum().rolling(2).mean().plot()\\n    ax.set_title(f\\\"M\\u00e9dia M\\u00f3vel de 2 Semanas: Mortes por COVID em {cidade} \\\\n\\\")\\n    ax.set_xlabel(\\\"\\\")\\n    ax.set_ylabel(\\\"N\\u00famero de Mortes\\\")\\n    return ax\";\n",
       "                var nbb_cells = Jupyter.notebook.get_cells();\n",
       "                for (var i = 0; i < nbb_cells.length; ++i) {\n",
       "                    if (nbb_cells[i].input_prompt_number == nbb_cell_id) {\n",
       "                        if (nbb_cells[i].get_text() == nbb_unformatted_code) {\n",
       "                             nbb_cells[i].set_text(nbb_formatted_code);\n",
       "                        }\n",
       "                        break;\n",
       "                    }\n",
       "                }\n",
       "            }, 500);\n",
       "            "
      ],
      "text/plain": [
       "<IPython.core.display.Javascript object>"
      ]
     },
     "metadata": {},
     "output_type": "display_data"
    }
   ],
   "source": [
    "# Arquivo caso_full.csv.gz hospedado em:  https://data.brasil.io/dataset/covid19/_meta/list.html\n",
    "covid = pd.read_csv(\"caso_full.csv.gz\", parse_dates=[\"date\"])\n",
    "covid.set_index(\"date\", inplace=True)\n",
    "\n",
    "\n",
    "@interact_manual(\n",
    "    cidade=[local for local in pd.Series(covid[\"city\"].unique()).sort_values()],\n",
    ")\n",
    "def covid_expansion(cidade):\n",
    "    covid_city = covid[covid[\"city\"] == cidade]\n",
    "    ax = covid_city[\"new_deaths\"].resample(\"W\").sum().rolling(2).mean().plot()\n",
    "    ax.set_title(f\"Média Móvel de 2 Semanas: Mortes por COVID em {cidade} \\n\")\n",
    "    ax.set_xlabel(\"\")\n",
    "    ax.set_ylabel(\"Número de Mortes\")\n",
    "    return ax"
   ]
  },
  {
   "cell_type": "code",
   "execution_count": null,
   "metadata": {},
   "outputs": [],
   "source": []
  }
 ],
 "metadata": {
  "kernelspec": {
   "display_name": "Python 3",
   "language": "python",
   "name": "python3"
  },
  "language_info": {
   "codemirror_mode": {
    "name": "ipython",
    "version": 3
   },
   "file_extension": ".py",
   "mimetype": "text/x-python",
   "name": "python",
   "nbconvert_exporter": "python",
   "pygments_lexer": "ipython3",
   "version": "3.7.3"
  }
 },
 "nbformat": 4,
 "nbformat_minor": 2
}
